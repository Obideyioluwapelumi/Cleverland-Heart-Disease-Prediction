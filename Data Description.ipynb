{
 "cells": [
  {
   "cell_type": "markdown",
   "id": "356b21c8",
   "metadata": {},
   "source": [
    "## Data Description\n",
    "The dataset is the Cleveland Heart Disease dataset taken from the UCI repository.\n",
    "The detailed description of all these features are as follows:​\n",
    "\n",
    "1. Age: Patients Age in years (Numeric)\n",
    "2. Sex: Gender (Male : 1; Female : 0) (Nominal)\n",
    "3. cp: Type of chest pain experienced by patient. \n",
    "    This term categorized into 4 category.\n",
    "           0 typical angina,\n",
    "           1 atypical angina, \n",
    "           2 non- anginal pain,\n",
    "           3 asymptomatic (Nominal)\n",
    "4. trestbps: patient's level of blood pressure at resting mode in mm/HG (Numerical)\n",
    "5. chol: Serum cholesterol in mg/dl (Numeric)\n",
    "6. fbs: Blood sugar levels on fasting > 120 mg/dl represents as 1 in case of true and 0 as false (Nominal)\n",
    "7. restecg: Result of electrocardiogram while at rest are represented in 3 distinct values\n",
    "          0 : Normal \n",
    "          1: having ST-T wave abnormality (T wave inversions and/or ST elevation or depression of > 0.05 mV) \n",
    "          2: showing probable or definite left ventricular hypertrophyby Estes' criteria (Nominal)\n",
    "8. thalach: Maximum heart rate achieved (Numeric)\n",
    "9. exang: Angina induced by exercise 0 depicting NO 1 depicting Yes (Nominal)\n",
    "10. oldpeak: Exercise induced ST-depression in relative with the state of rest (Numeric)\n",
    "11. slope: ST segment measured in terms of slope during peak exercise\n",
    "          0: up sloping;\n",
    "          1: flat;\n",
    "          2: down sloping(Nominal)\n",
    "12. ca: The number of major vessels (0–3)(nominal)\n",
    "13. thal: A blood disorder called thalassemia\n",
    "         0: NULL\n",
    "         1: normal blood flow\n",
    "         2: fixed defect (no blood flow in some part of the heart) \n",
    "         3: reversible defect (a blood flow is observed but it is not normal(nominal)\n",
    "14. target: It is the target variable which we have to predict 1 means patient is suffering from heart disease and 0 means patient is normal."
   ]
  },
  {
   "cell_type": "code",
   "execution_count": null,
   "id": "05569120",
   "metadata": {},
   "outputs": [],
   "source": []
  }
 ],
 "metadata": {
  "kernelspec": {
   "display_name": "Python 3 (ipykernel)",
   "language": "python",
   "name": "python3"
  },
  "language_info": {
   "codemirror_mode": {
    "name": "ipython",
    "version": 3
   },
   "file_extension": ".py",
   "mimetype": "text/x-python",
   "name": "python",
   "nbconvert_exporter": "python",
   "pygments_lexer": "ipython3",
   "version": "3.9.13"
  }
 },
 "nbformat": 4,
 "nbformat_minor": 5
}
